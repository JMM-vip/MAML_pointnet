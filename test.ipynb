{
 "cells": [
  {
   "cell_type": "code",
   "execution_count": 2,
   "metadata": {},
   "outputs": [],
   "source": [
    "from data_utils.MAML_ModelNetDataLoader40 import MAMLModelNetDataset\n",
    "import os\n",
    "data_root = '/home/g111056119/Documents/7111056119/Pointnet_Pointnet2_pytorch/data/modelnet40_normal_resampled'\n",
    "\n",
    "class foo:\n",
    "    num_point = 1024\n",
    "    use_uniform_sample = False\n",
    "    use_normals = False\n",
    "    num_category = 40\n",
    "    pass\n",
    "\n",
    "def split_four_categoris_normal(data_root:str, args):\n",
    "    \"\"\"\n",
    "    將 ModelNet40 分成 4 組，每組 10 種類別\n",
    "    n_way=10\n",
    "    k_shot=?\n",
    "    \"\"\"\n",
    "    file_paths = os.path.join(data_root, 'modelnet40_shape_names.txt')\n",
    "    datasets = []\n",
    "    with open(file_paths, 'r') as f:\n",
    "        cat = [line.rstrip() for line in f]\n",
    "        cat.sort()\n",
    "        ii = [x * 10 for x in range(4)]\n",
    "        cat = [cat[x: x + 10] for x in ii]\n",
    "        datasets = [MAMLModelNetDataset(data_root, x, args) for x in cat]\n",
    "    return datasets\n",
    "\n",
    "mn = split_four_categoris_normal(data_root, foo())"
   ]
  },
  {
   "cell_type": "code",
   "execution_count": 3,
   "metadata": {},
   "outputs": [
    {
     "data": {
      "text/plain": [
       "3325"
      ]
     },
     "execution_count": 3,
     "metadata": {},
     "output_type": "execute_result"
    }
   ],
   "source": [
    "len(mn[3])"
   ]
  },
  {
   "cell_type": "code",
   "execution_count": 4,
   "metadata": {},
   "outputs": [
    {
     "data": {
      "text/plain": [
       "1662.5"
      ]
     },
     "execution_count": 4,
     "metadata": {},
     "output_type": "execute_result"
    }
   ],
   "source": [
    "len(mn[3]) / 2"
   ]
  },
  {
   "cell_type": "code",
   "execution_count": 5,
   "metadata": {},
   "outputs": [
    {
     "data": {
      "text/plain": [
       "(array([[ 0.5279 , -0.061  ,  0.5927 ],\n",
       "        [-0.07676,  0.1259 , -0.8397 ],\n",
       "        [-0.5386 ,  0.07028,  0.2294 ],\n",
       "        ...,\n",
       "        [ 0.1079 ,  0.2756 ,  0.743  ],\n",
       "        [ 0.1263 ,  0.09895, -0.1691 ],\n",
       "        [ 0.3001 ,  0.08873,  0.4367 ]]),\n",
       " 0)"
      ]
     },
     "execution_count": 5,
     "metadata": {},
     "output_type": "execute_result"
    }
   ],
   "source": [
    "mn[3][0]"
   ]
  },
  {
   "cell_type": "code",
   "execution_count": 12,
   "metadata": {},
   "outputs": [
    {
     "data": {
      "text/plain": [
       "array([[ 0.5279 , -0.061  ,  0.5927 ],\n",
       "       [-0.07676,  0.1259 , -0.8397 ],\n",
       "       [-0.5386 ,  0.07028,  0.2294 ],\n",
       "       ...,\n",
       "       [ 0.1079 ,  0.2756 ,  0.743  ],\n",
       "       [ 0.1263 ,  0.09895, -0.1691 ],\n",
       "       [ 0.3001 ,  0.08873,  0.4367 ]])"
      ]
     },
     "execution_count": 12,
     "metadata": {},
     "output_type": "execute_result"
    }
   ],
   "source": [
    "# Extract features and labels from the dataset\n",
    "features = [item[0] for item in mn[3]]\n",
    "labels = [item[1] for item in mn[3]]\n",
    "\n",
    "features,label = [item[0],item[1] for item in mn[3]]\n"
   ]
  },
  {
   "cell_type": "code",
   "execution_count": 13,
   "metadata": {},
   "outputs": [],
   "source": [
    "features, labels = zip(*[(item[0], item[1]) for item in mn[3]])"
   ]
  },
  {
   "cell_type": "code",
   "execution_count": 16,
   "metadata": {},
   "outputs": [],
   "source": [
    "from sklearn.model_selection import train_test_split\n",
    "features, labels = zip(*[(item[0], item[1]) for item in mn[3]])\n",
    "query_set_train_x, query_set_train_y, query_set_test_x, query_set_test_y= train_test_split(features , labels, test_size=0.5, random_state=42)\n"
   ]
  },
  {
   "cell_type": "code",
   "execution_count": 17,
   "metadata": {},
   "outputs": [
    {
     "data": {
      "text/plain": [
       "1662"
      ]
     },
     "execution_count": 17,
     "metadata": {},
     "output_type": "execute_result"
    }
   ],
   "source": [
    "len(query_set_train_x)"
   ]
  },
  {
   "cell_type": "code",
   "execution_count": 18,
   "metadata": {},
   "outputs": [
    {
     "data": {
      "text/plain": [
       "1662"
      ]
     },
     "execution_count": 18,
     "metadata": {},
     "output_type": "execute_result"
    }
   ],
   "source": [
    "len(query_set_test_x)"
   ]
  },
  {
   "cell_type": "code",
   "execution_count": 10,
   "metadata": {},
   "outputs": [
    {
     "data": {
      "text/plain": [
       "(array([[-0.2078, -0.1768,  0.6402],\n",
       "        [ 0.1141,  0.728 , -0.6325],\n",
       "        [-0.2036, -0.4413, -0.8096],\n",
       "        ...,\n",
       "        [-0.1578, -0.1079,  0.2134],\n",
       "        [-0.1578, -0.137 , -0.7469],\n",
       "        [-0.1221,  0.5634,  0.2507]]),\n",
       " 9)"
      ]
     },
     "execution_count": 10,
     "metadata": {},
     "output_type": "execute_result"
    }
   ],
   "source": [
    "# from sklearn.model_selection import train_test_split\n",
    "# train_support_set, train_query_set, test_support_set, test_query_set= train_test_split(mn[3][0],mn[3][1],test_size=0.5,random_state=42)\n",
    "spilt_ratio=0.5\n",
    "test_support_set=mn[3][-1]\n",
    "test_support_set"
   ]
  },
  {
   "cell_type": "code",
   "execution_count": 15,
   "metadata": {},
   "outputs": [
    {
     "data": {
      "text/plain": [
       "1662"
      ]
     },
     "execution_count": 15,
     "metadata": {},
     "output_type": "execute_result"
    }
   ],
   "source": [
    "dataset_finetune=mn[3]\n",
    "# Define the sizes for the training and testing sets\n",
    "query_set_train_size = int(0.5* len(dataset_finetune))  # 50% for training\n",
    "query_set_test_size = len(dataset_finetune) - query_set_train_size   # 50% for testing\n",
    "query_set_train_size"
   ]
  },
  {
   "cell_type": "code",
   "execution_count": 12,
   "metadata": {},
   "outputs": [],
   "source": [
    "from torch.utils.data import DataLoader,random_split\n",
    "\n",
    "# Define the sizes for the training and testing sets\n",
    "support_set_size = int(0.5* len(dataset_finetune))  # 50% for training\n",
    "query_set_size = len(dataset_finetune) - support_set_size   # 50% for testing\n",
    "\n",
    "# test database 再分 train(support set) >> fine tune & test(query set) >> cal accuracy\n",
    "support_dataset, query_dataset = random_split(dataset_finetune, [support_set_size, query_set_size])\n"
   ]
  },
  {
   "cell_type": "code",
   "execution_count": 14,
   "metadata": {},
   "outputs": [
    {
     "data": {
      "text/plain": [
       "(array([[ 0.07073 ,  0.3976  ,  0.3626  ],\n",
       "        [-0.009874, -0.9291  , -0.1479  ],\n",
       "        [-0.08086 ,  0.928   , -0.3612  ],\n",
       "        ...,\n",
       "        [ 0.3398  , -0.4422  ,  0.09375 ],\n",
       "        [-0.232   ,  0.3262  ,  0.2842  ],\n",
       "        [ 0.2172  ,  0.8772  ,  0.196   ]]),\n",
       " 7)"
      ]
     },
     "execution_count": 14,
     "metadata": {},
     "output_type": "execute_result"
    }
   ],
   "source": [
    "support_dataset[-1]"
   ]
  },
  {
   "cell_type": "code",
   "execution_count": 16,
   "metadata": {},
   "outputs": [
    {
     "name": "stdout",
     "output_type": "stream",
     "text": [
      "1662\n"
     ]
    },
    {
     "ename": "ValueError",
     "evalue": "could not convert string '/home/g111056119/Documents/7111056119/Pointnet_Pointnet2_pytorch/data/modelnet40_normal_resampled/s to float64 at row 0, column 1.",
     "output_type": "error",
     "traceback": [
      "\u001b[0;31m---------------------------------------------------------------------------\u001b[0m",
      "\u001b[0;31mValueError\u001b[0m                                Traceback (most recent call last)",
      "\u001b[0;31mValueError\u001b[0m: could not convert string to float: '/home/g111056119/Documents/7111056119/Pointnet_Pointnet2_pytorch/data/modelnet40_normal_resampled/sofa/sofa_0555.txt'",
      "\nThe above exception was the direct cause of the following exception:\n",
      "\u001b[0;31mValueError\u001b[0m                                Traceback (most recent call last)",
      "\u001b[1;32m/home/g111056119/Documents/7111056119/Pointnet_Pointnet2_pytorch/test.ipynb 儲存格 14\u001b[0m line \u001b[0;36m9\n\u001b[1;32m      <a href='vscode-notebook-cell://ssh-remote%2B140.120.13.184/home/g111056119/Documents/7111056119/Pointnet_Pointnet2_pytorch/test.ipynb#X21sdnNjb2RlLXJlbW90ZQ%3D%3D?line=6'>7</a>\u001b[0m \u001b[39mprint\u001b[39m(support_set_size)\n\u001b[1;32m      <a href='vscode-notebook-cell://ssh-remote%2B140.120.13.184/home/g111056119/Documents/7111056119/Pointnet_Pointnet2_pytorch/test.ipynb#X21sdnNjb2RlLXJlbW90ZQ%3D%3D?line=7'>8</a>\u001b[0m \u001b[39m# test database 再分 train(support set) >> fine tune & test(query set) >> cal accuracy\u001b[39;00m\n\u001b[0;32m----> <a href='vscode-notebook-cell://ssh-remote%2B140.120.13.184/home/g111056119/Documents/7111056119/Pointnet_Pointnet2_pytorch/test.ipynb#X21sdnNjb2RlLXJlbW90ZQ%3D%3D?line=8'>9</a>\u001b[0m support_dataset, query_dataset \u001b[39m=\u001b[39m dataset_finetune[:support_set_size], dataset_finetune[support_set_size:]\n",
      "File \u001b[0;32m~/Documents/7111056119/Pointnet_Pointnet2_pytorch/data_utils/MAML_ModelNetDataLoader40.py:36\u001b[0m, in \u001b[0;36mMAMLModelNetDataset.__getitem__\u001b[0;34m(self, index)\u001b[0m\n\u001b[1;32m     34\u001b[0m \u001b[39mdef\u001b[39;00m \u001b[39m__getitem__\u001b[39m(\u001b[39mself\u001b[39m, index):\n\u001b[1;32m     35\u001b[0m     label \u001b[39m=\u001b[39m \u001b[39mself\u001b[39m\u001b[39m.\u001b[39mlabels[index]\n\u001b[0;32m---> 36\u001b[0m     cat_points \u001b[39m=\u001b[39m load_points_from_category([\u001b[39mself\u001b[39;49m\u001b[39m.\u001b[39;49mpoints_path[index]])[\u001b[39m0\u001b[39m]\n\u001b[1;32m     37\u001b[0m     cat_points \u001b[39m=\u001b[39m cat_points[\u001b[39m0\u001b[39m:\u001b[39mself\u001b[39m\u001b[39m.\u001b[39mnpoints, \u001b[39m0\u001b[39m:\u001b[39m3\u001b[39m]\n\u001b[1;32m     38\u001b[0m     \u001b[39mreturn\u001b[39;00m cat_points, label\n",
      "File \u001b[0;32m~/Documents/7111056119/Pointnet_Pointnet2_pytorch/data_utils/MAML_ModelNetDataLoader40.py:15\u001b[0m, in \u001b[0;36mload_points_from_category\u001b[0;34m(paths)\u001b[0m\n\u001b[1;32m     14\u001b[0m \u001b[39mdef\u001b[39;00m \u001b[39mload_points_from_category\u001b[39m(paths):\n\u001b[0;32m---> 15\u001b[0m     \u001b[39mreturn\u001b[39;00m [np\u001b[39m.\u001b[39;49mloadtxt(x, delimiter\u001b[39m=\u001b[39;49m\u001b[39m'\u001b[39;49m\u001b[39m,\u001b[39;49m\u001b[39m'\u001b[39;49m)\u001b[39m.\u001b[39;49mastype(\u001b[39mfloat\u001b[39;49m) \u001b[39mfor\u001b[39;49;00m x \u001b[39min\u001b[39;49;00m paths]\n",
      "File \u001b[0;32m~/Documents/7111056119/Pointnet_Pointnet2_pytorch/data_utils/MAML_ModelNetDataLoader40.py:15\u001b[0m, in \u001b[0;36m<listcomp>\u001b[0;34m(.0)\u001b[0m\n\u001b[1;32m     14\u001b[0m \u001b[39mdef\u001b[39;00m \u001b[39mload_points_from_category\u001b[39m(paths):\n\u001b[0;32m---> 15\u001b[0m     \u001b[39mreturn\u001b[39;00m [np\u001b[39m.\u001b[39;49mloadtxt(x, delimiter\u001b[39m=\u001b[39;49m\u001b[39m'\u001b[39;49m\u001b[39m,\u001b[39;49m\u001b[39m'\u001b[39;49m)\u001b[39m.\u001b[39mastype(\u001b[39mfloat\u001b[39m) \u001b[39mfor\u001b[39;00m x \u001b[39min\u001b[39;00m paths]\n",
      "File \u001b[0;32m~/anaconda3/envs/torch_practice/lib/python3.11/site-packages/numpy/lib/npyio.py:1373\u001b[0m, in \u001b[0;36mloadtxt\u001b[0;34m(fname, dtype, comments, delimiter, converters, skiprows, usecols, unpack, ndmin, encoding, max_rows, quotechar, like)\u001b[0m\n\u001b[1;32m   1370\u001b[0m \u001b[39mif\u001b[39;00m \u001b[39misinstance\u001b[39m(delimiter, \u001b[39mbytes\u001b[39m):\n\u001b[1;32m   1371\u001b[0m     delimiter \u001b[39m=\u001b[39m delimiter\u001b[39m.\u001b[39mdecode(\u001b[39m'\u001b[39m\u001b[39mlatin1\u001b[39m\u001b[39m'\u001b[39m)\n\u001b[0;32m-> 1373\u001b[0m arr \u001b[39m=\u001b[39m _read(fname, dtype\u001b[39m=\u001b[39;49mdtype, comment\u001b[39m=\u001b[39;49mcomment, delimiter\u001b[39m=\u001b[39;49mdelimiter,\n\u001b[1;32m   1374\u001b[0m             converters\u001b[39m=\u001b[39;49mconverters, skiplines\u001b[39m=\u001b[39;49mskiprows, usecols\u001b[39m=\u001b[39;49musecols,\n\u001b[1;32m   1375\u001b[0m             unpack\u001b[39m=\u001b[39;49munpack, ndmin\u001b[39m=\u001b[39;49mndmin, encoding\u001b[39m=\u001b[39;49mencoding,\n\u001b[1;32m   1376\u001b[0m             max_rows\u001b[39m=\u001b[39;49mmax_rows, quote\u001b[39m=\u001b[39;49mquotechar)\n\u001b[1;32m   1378\u001b[0m \u001b[39mreturn\u001b[39;00m arr\n",
      "File \u001b[0;32m~/anaconda3/envs/torch_practice/lib/python3.11/site-packages/numpy/lib/npyio.py:1016\u001b[0m, in \u001b[0;36m_read\u001b[0;34m(fname, delimiter, comment, quote, imaginary_unit, usecols, skiplines, max_rows, converters, ndmin, unpack, dtype, encoding)\u001b[0m\n\u001b[1;32m   1013\u001b[0m     data \u001b[39m=\u001b[39m _preprocess_comments(data, comments, encoding)\n\u001b[1;32m   1015\u001b[0m \u001b[39mif\u001b[39;00m read_dtype_via_object_chunks \u001b[39mis\u001b[39;00m \u001b[39mNone\u001b[39;00m:\n\u001b[0;32m-> 1016\u001b[0m     arr \u001b[39m=\u001b[39m _load_from_filelike(\n\u001b[1;32m   1017\u001b[0m         data, delimiter\u001b[39m=\u001b[39mdelimiter, comment\u001b[39m=\u001b[39mcomment, quote\u001b[39m=\u001b[39mquote,\n\u001b[1;32m   1018\u001b[0m         imaginary_unit\u001b[39m=\u001b[39mimaginary_unit,\n\u001b[1;32m   1019\u001b[0m         usecols\u001b[39m=\u001b[39musecols, skiplines\u001b[39m=\u001b[39mskiplines, max_rows\u001b[39m=\u001b[39mmax_rows,\n\u001b[1;32m   1020\u001b[0m         converters\u001b[39m=\u001b[39mconverters, dtype\u001b[39m=\u001b[39mdtype,\n\u001b[1;32m   1021\u001b[0m         encoding\u001b[39m=\u001b[39mencoding, filelike\u001b[39m=\u001b[39mfilelike,\n\u001b[1;32m   1022\u001b[0m         byte_converters\u001b[39m=\u001b[39mbyte_converters)\n\u001b[1;32m   1024\u001b[0m \u001b[39melse\u001b[39;00m:\n\u001b[1;32m   1025\u001b[0m     \u001b[39m# This branch reads the file into chunks of object arrays and then\u001b[39;00m\n\u001b[1;32m   1026\u001b[0m     \u001b[39m# casts them to the desired actual dtype.  This ensures correct\u001b[39;00m\n\u001b[1;32m   1027\u001b[0m     \u001b[39m# string-length and datetime-unit discovery (like `arr.astype()`).\u001b[39;00m\n\u001b[1;32m   1028\u001b[0m     \u001b[39m# Due to chunking, certain error reports are less clear, currently.\u001b[39;00m\n\u001b[1;32m   1029\u001b[0m     \u001b[39mif\u001b[39;00m filelike:\n",
      "\u001b[0;31mValueError\u001b[0m: could not convert string '/home/g111056119/Documents/7111056119/Pointnet_Pointnet2_pytorch/data/modelnet40_normal_resampled/s to float64 at row 0, column 1."
     ]
    }
   ],
   "source": [
    "from torch.utils.data import DataLoader,random_split\n",
    "\n",
    "# Define the sizes for the training and testing sets\n",
    "train_ratio = 0.5\n",
    "support_set_size = int(train_ratio* len(dataset_finetune))  # 50% for training\n",
    "# query_set_size = len(dataset_finetune) - support_set_size   # 50% for testing\n",
    "print(support_set_size)\n",
    "# test database 再分 train(support set) >> fine tune & test(query set) >> cal accuracy\n",
    "support_dataset, query_dataset = dataset_finetune[:support_set_size], dataset_finetune[support_set_size:]"
   ]
  },
  {
   "cell_type": "code",
   "execution_count": null,
   "metadata": {},
   "outputs": [],
   "source": [
    "from torch.utils.data import DataLoader\n",
    "\n",
    "data_root = '/home/g111056119/Documents/7111056119/Pointnet_Pointnet2_pytorch/data/modelnet40_normal_resampled'\n",
    "from data_utils.MAML_ModelNetDataLoader40 import split_four_categoris\n",
    "datasets = split_four_categoris(data_root, foo())\n",
    "dataset_finetune = datasets[3]\n",
    "from sklearn.model_selection import train_test_split\n",
    "features, labels = zip(*[(item[0], item[1]) for item in dataset_finetune])\n",
    "query_set_train_x, query_set_train_y, query_set_test_x, query_set_test_y= train_test_split(features , labels, test_size=0.5, random_state=42)\n",
    "\n",
    "\n",
    "# datasets = datasets[0:3]\n",
    "task_data_loader = [DataLoader(x, batch_size=4, shuffle=True, num_workers=10, drop_last=True) for x in dataset_finetune]\n",
    "\n",
    "from models.pointnet2_cls_msg import get_model as pointnet2_model\n",
    "from models.pointnet2_cls_msg import get_loss as pointnet2_loss_fn\n",
    "model = pointnet2_model(10, False).to(\"cuda\")\n",
    "criterion = pointnet2_loss_fn()\n",
    "meta_lr = 1e-3\n",
    "meta_optimizer = torch.optim.Adam(model.parameters(), lr=meta_lr)\n",
    "\n",
    "start_epoch = 0\n",
    "loop_count = 1000 // 10\n",
    "for epoch in range(start_epoch, 100):\n",
    "    task_iter = [iter(x) for x in task_data_loader]\n",
    "    task_lr = 1e-1\n",
    "    for lc in range(loop_count):\n",
    "        task_model_dict = []\n",
    "        task_model_loss = []\n",
    "        task_points = []\n",
    "        task_labels = []\n",
    "        for (i, ti) in enumerate(task_iter):\n",
    "            try:\n",
    "                points, labels = next(ti)\n",
    "            except StopIteration:\n",
    "                task_iter[i] = iter(task_data_loader[i])\n",
    "                points, labels = next(task_iter[i])\n",
    "            points = maml_points_do_staff(points)\n",
    "            labels = labels.cuda()\n",
    "            task_points.append(points)\n",
    "            task_labels.append(labels)"
   ]
  }
 ],
 "metadata": {
  "kernelspec": {
   "display_name": "torch_practice",
   "language": "python",
   "name": "python3"
  },
  "language_info": {
   "codemirror_mode": {
    "name": "ipython",
    "version": 3
   },
   "file_extension": ".py",
   "mimetype": "text/x-python",
   "name": "python",
   "nbconvert_exporter": "python",
   "pygments_lexer": "ipython3",
   "version": "3.11.4"
  }
 },
 "nbformat": 4,
 "nbformat_minor": 2
}
