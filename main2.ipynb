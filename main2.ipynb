{
 "cells": [
  {
   "cell_type": "code",
   "execution_count": 1,
   "metadata": {},
   "outputs": [
    {
     "name": "stdout",
     "output_type": "stream",
     "text": [
      "The size of train data is 9843\n"
     ]
    }
   ],
   "source": [
    "from data_utils.ModelNetDataLoader import ModelNetDataLoader as ModelNetDataset\n",
    "import glob\n",
    "import os\n",
    "import numpy as np\n",
    "from itertools import chain\n",
    "import torch\n",
    "import torch.utils.data.dataloader \n",
    "class foo:\n",
    "    num_point = 1024\n",
    "    use_uniform_sample = False\n",
    "    use_normals = False\n",
    "    num_category = 40\n",
    "    pass\n",
    "\n",
    "data_root = '/home/g111056119/Documents/7111056119/Pointnet_Pointnet2_pytorch/data/modelnet40_normal_resampled'\n",
    "mm = ModelNetDataset(data_root, foo())\n"
   ]
  },
  {
   "cell_type": "code",
   "execution_count": 10,
   "metadata": {},
   "outputs": [
    {
     "data": {
      "text/plain": [
       "((1024, 3), 32)"
      ]
     },
     "execution_count": 10,
     "metadata": {},
     "output_type": "execute_result"
    }
   ],
   "source": [
    "points, labels = mm[8000]\n",
    "(points.shape, labels)"
   ]
  },
  {
   "cell_type": "markdown",
   "metadata": {},
   "source": [
    "# MAML 資料分法"
   ]
  },
  {
   "cell_type": "markdown",
   "metadata": {},
   "source": [
    "## Normal"
   ]
  },
  {
   "cell_type": "code",
   "execution_count": 2,
   "metadata": {},
   "outputs": [],
   "source": [
    "from data_utils.MAML_ModelNetDataLoader40 import MAMLModelNetDataset\n",
    "def split_four_categoris_normal(data_root:str, args):\n",
    "    \"\"\"\n",
    "    將 ModelNet40 分成 4 組，每組 10 種類別\n",
    "    n_way=10\n",
    "    k_shot=?\n",
    "    \"\"\"\n",
    "    file_paths = os.path.join(data_root, 'modelnet40_shape_names.txt')\n",
    "    datasets = []\n",
    "    with open(file_paths, 'r') as f:\n",
    "        cat = [line.rstrip() for line in f]\n",
    "        cat.sort()\n",
    "        ii = [x * 10 for x in range(4)]\n",
    "        cat = [cat[x: x + 10] for x in ii]\n",
    "        datasets = [MAMLModelNetDataset(data_root, x, args) for x in cat]\n",
    "    return datasets\n",
    "\n",
    "mn = split_four_categoris_normal(data_root, foo())"
   ]
  },
  {
   "cell_type": "code",
   "execution_count": 7,
   "metadata": {},
   "outputs": [
    {
     "data": {
      "text/plain": [
       "12311"
      ]
     },
     "execution_count": 7,
     "metadata": {},
     "output_type": "execute_result"
    }
   ],
   "source": [
    "np.sum([len(x) for x in mn])"
   ]
  },
  {
   "cell_type": "markdown",
   "metadata": {},
   "source": [
    "## K Shot"
   ]
  },
  {
   "cell_type": "code",
   "execution_count": 3,
   "metadata": {},
   "outputs": [],
   "source": [
    "\n",
    "file_paths = os.path.join(data_root, 'modelnet40_shape_names.txt')\n",
    "from data_utils.MAML_ModelNetDataLoader40 import MAMLModelNetDataset, MAMLModelNetDataset_KShot\n",
    "def split_four_categoris(data_root:str, args):\n",
    "    \"\"\"\n",
    "    將 ModelNet40 分成 4 組，每組 10 種類別\n",
    "    n_way=10\n",
    "    k_shot=?\n",
    "    \"\"\"\n",
    "    file_paths = os.path.join(data_root, 'modelnet40_shape_names.txt')\n",
    "    datasets = []\n",
    "    with open(file_paths, 'r') as f:\n",
    "        cat = [line.rstrip() for line in f]\n",
    "        cat.sort()\n",
    "        ii = [x * 10 for x in range(4)]\n",
    "        cat = [cat[x: x + 10] for x in ii]\n",
    "        datasets = [MAMLModelNetDataset_KShot(data_root, x, args) for x in cat]\n",
    "    return datasets"
   ]
  },
  {
   "cell_type": "code",
   "execution_count": 4,
   "metadata": {},
   "outputs": [],
   "source": [
    "xx = split_four_categoris(data_root, foo())"
   ]
  },
  {
   "cell_type": "code",
   "execution_count": 5,
   "metadata": {},
   "outputs": [],
   "source": [
    "points, labels = xx[0][0]\n",
    "# (points.shape, [xx[0].categories_name[i] for i in labels])"
   ]
  }
 ],
 "metadata": {
  "kernelspec": {
   "display_name": "torch_practice",
   "language": "python",
   "name": "python3"
  },
  "language_info": {
   "codemirror_mode": {
    "name": "ipython",
    "version": 3
   },
   "file_extension": ".py",
   "mimetype": "text/x-python",
   "name": "python",
   "nbconvert_exporter": "python",
   "pygments_lexer": "ipython3",
   "version": "3.11.4"
  }
 },
 "nbformat": 4,
 "nbformat_minor": 2
}
